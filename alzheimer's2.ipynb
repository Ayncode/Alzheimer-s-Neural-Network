{
 "cells": [
  {
   "cell_type": "code",
   "execution_count": 1,
   "metadata": {},
   "outputs": [],
   "source": [
    "import tensorflow\n",
    "import os\n",
    "newModel = tensorflow.keras.models.load_model(os.path.join('models', 'alzheimer model v1.h5'))"
   ]
  },
  {
   "cell_type": "code",
   "execution_count": 2,
   "metadata": {},
   "outputs": [
    {
     "name": "stdout",
     "output_type": "stream",
     "text": [
      "Found 27188 images belonging to 4 classes.\n",
      "Found 6796 images belonging to 4 classes.\n"
     ]
    }
   ],
   "source": [
    "train_data_generator = tensorflow.keras.preprocessing.image.ImageDataGenerator(validation_split=0.2)\n",
    "direct = \"C:/Users/19548/Coding Projects/Alzheimer's Project/Images Alzheimer's\"\n",
    "\n",
    "train_images = train_data_generator.flow_from_directory(direct, target_size=(200, 200), class_mode='categorical', subset='training') \n",
    "\n",
    "validation_images = train_data_generator.flow_from_directory(direct, target_size=(200, 200), class_mode='categorical', subset='validation') "
   ]
  },
  {
   "cell_type": "code",
   "execution_count": 4,
   "metadata": {},
   "outputs": [],
   "source": [
    "tensorboard_callback = tensorflow.keras.callbacks.TensorBoard(log_dir = 'logs')"
   ]
  },
  {
   "cell_type": "code",
   "execution_count": 5,
   "metadata": {},
   "outputs": [
    {
     "name": "stdout",
     "output_type": "stream",
     "text": [
      "850/850 [==============================] - 223s 262ms/step - loss: 0.7795 - accuracy: 0.6528 - val_loss: 0.6777 - val_accuracy: 0.7135\n"
     ]
    }
   ],
   "source": [
    "times = int(input(\"Epochs: \"))\n",
    "for i in range(times):\n",
    "    hist = newModel.fit(train_images, epochs = times, validation_data = validation_images, callbacks = [tensorboard_callback])"
   ]
  },
  {
   "cell_type": "code",
   "execution_count": 6,
   "metadata": {},
   "outputs": [],
   "source": [
    "completed2 = newModel.save(os.path.join('Models', 'alzheimer model v2.h5'))"
   ]
  }
 ],
 "metadata": {
  "kernelspec": {
   "display_name": "Python 3.9.13 64-bit (microsoft store)",
   "language": "python",
   "name": "python3"
  },
  "language_info": {
   "codemirror_mode": {
    "name": "ipython",
    "version": 3
   },
   "file_extension": ".py",
   "mimetype": "text/x-python",
   "name": "python",
   "nbconvert_exporter": "python",
   "pygments_lexer": "ipython3",
   "version": "3.9.13"
  },
  "orig_nbformat": 4,
  "vscode": {
   "interpreter": {
    "hash": "00488bdc107a044d7b1275831677a9c3c5c8d38b468c7a2abd5c74a7fe1d336f"
   }
  }
 },
 "nbformat": 4,
 "nbformat_minor": 2
}
